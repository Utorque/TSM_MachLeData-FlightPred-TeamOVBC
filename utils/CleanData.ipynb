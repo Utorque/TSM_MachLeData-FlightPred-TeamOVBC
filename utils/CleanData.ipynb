{
 "cells": [
  {
   "cell_type": "code",
   "execution_count": 4,
   "id": "99ff4c80",
   "metadata": {},
   "outputs": [
    {
     "name": "stdout",
     "output_type": "stream",
     "text": [
      "             date dayofweek  week     Class\n",
      "0      2022-02-11    Friday     6  Business\n",
      "1      2022-02-11    Friday     6  Business\n",
      "2      2022-02-11    Friday     6  Business\n",
      "3      2022-02-11    Friday     6  Business\n",
      "4      2022-02-11    Friday     6  Business\n",
      "...           ...       ...   ...       ...\n",
      "300256 2022-03-31  Thursday    13   Economy\n",
      "300257 2022-03-31  Thursday    13   Economy\n",
      "300258 2022-03-31  Thursday    13   Economy\n",
      "300259 2022-03-31  Thursday    13   Economy\n",
      "300260 2022-03-31  Thursday    13   Economy\n",
      "\n",
      "[300261 rows x 4 columns]\n"
     ]
    }
   ],
   "source": [
    "import pandas as pd\n",
    "\n",
    "df_business = pd.read_csv(\"../data/business.csv\")\n",
    "df_economy = pd.read_csv(\"../data/economy.csv\")\n",
    "\n",
    "df_business[\"Class\"] = \"Business\"\n",
    "df_economy[\"Class\"] = \"Economy\"\n",
    "\n",
    "df = pd.concat([df_business, df_economy], ignore_index=True)\n",
    "\n",
    "df['date'] = pd.to_datetime(df['date'], format='%d-%m-%Y')\n",
    "\n",
    "df['dayofweek'] = df['date'].dt.day_name()     \n",
    "df['week'] = df['date'].dt.isocalendar().week \n",
    "\n",
    "print(df[['date','dayofweek','week','Class']])\n",
    "\n",
    "df.to_csv(\"../data/Flights.csv\", index=False)\n"
   ]
  },
  {
   "cell_type": "markdown",
   "id": "7c1ddd04",
   "metadata": {},
   "source": []
  }
 ],
 "metadata": {
  "kernelspec": {
   "display_name": "Python 3",
   "language": "python",
   "name": "python3"
  },
  "language_info": {
   "codemirror_mode": {
    "name": "ipython",
    "version": 3
   },
   "file_extension": ".py",
   "mimetype": "text/x-python",
   "name": "python",
   "nbconvert_exporter": "python",
   "pygments_lexer": "ipython3",
   "version": "3.13.9"
  }
 },
 "nbformat": 4,
 "nbformat_minor": 5
}
