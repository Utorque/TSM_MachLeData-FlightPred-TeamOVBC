{
 "cells": [
  {
   "cell_type": "code",
   "execution_count": null,
   "id": "99ff4c80",
   "metadata": {},
   "outputs": [
    {
     "name": "stdout",
     "output_type": "stream",
     "text": [
      "             Date dayofweek     Class\n",
      "0      2022-02-11    Friday  Business\n",
      "1      2022-02-11    Friday  Business\n",
      "2      2022-02-11    Friday  Business\n",
      "3      2022-02-11    Friday  Business\n",
      "4      2022-02-11    Friday  Business\n",
      "...           ...       ...       ...\n",
      "300256 2022-03-31  Thursday   Economy\n",
      "300257 2022-03-31  Thursday   Economy\n",
      "300258 2022-03-31  Thursday   Economy\n",
      "300259 2022-03-31  Thursday   Economy\n",
      "300260 2022-03-31  Thursday   Economy\n",
      "\n",
      "[300261 rows x 3 columns]\n"
     ]
    }
   ],
   "source": [
    "import pandas as pd\n",
    "\n",
    "df_business = pd.read_csv(\"data/Business.csv\")\n",
    "df_economy = pd.read_csv(\"data/Economy.csv\")\n",
    "\n",
    "df_business[\"Class\"] = \"Business\"\n",
    "df_economy[\"Class\"] = \"Economy\"\n",
    "\n",
    "df = pd.concat([df_business, df_economy], ignore_index=True)\n",
    "\n",
    "df['Date'] = pd.to_datetime(df['date'], format='%d-%m-%Y')\n",
    "\n",
    "df['dayofweek'] = df['Date'].dt.day_name()     \n",
    "\n",
    "print(df[['Date','dayofweek','Class']])\n",
    "\n",
    "df.to_csv(\"data/Flights.csv\", index=False)\n"
   ]
  },
  {
   "cell_type": "markdown",
   "id": "7c1ddd04",
   "metadata": {},
   "source": []
  }
 ],
 "metadata": {
  "kernelspec": {
   "display_name": "Python 3",
   "language": "python",
   "name": "python3"
  },
  "language_info": {
   "codemirror_mode": {
    "name": "ipython",
    "version": 3
   },
   "file_extension": ".py",
   "mimetype": "text/x-python",
   "name": "python",
   "nbconvert_exporter": "python",
   "pygments_lexer": "ipython3",
   "version": "3.13.9"
  }
 },
 "nbformat": 4,
 "nbformat_minor": 5
}
